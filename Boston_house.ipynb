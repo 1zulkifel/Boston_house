{
  "nbformat": 4,
  "nbformat_minor": 0,
  "metadata": {
    "colab": {
      "name": "Boston_house.ipynb",
      "provenance": [],
      "collapsed_sections": [],
      "authorship_tag": "ABX9TyNfcbTRXU9EIA5ps1+LP43r",
      "include_colab_link": true
    },
    "kernelspec": {
      "name": "python3",
      "display_name": "Python 3"
    }
  },
  "cells": [
    {
      "cell_type": "markdown",
      "metadata": {
        "id": "view-in-github",
        "colab_type": "text"
      },
      "source": [
        "<a href=\"https://colab.research.google.com/github/1zulkifel/Boston_house/blob/master/Boston_house.ipynb\" target=\"_parent\"><img src=\"https://colab.research.google.com/assets/colab-badge.svg\" alt=\"Open In Colab\"/></a>"
      ]
    },
    {
      "cell_type": "code",
      "metadata": {
        "id": "ix0dvKOtNkt5",
        "colab_type": "code",
        "colab": {
          "base_uri": "https://localhost:8080/",
          "height": 35
        },
        "outputId": "7dfefa78-ce71-4e41-a1df-6ac97607dcfb"
      },
      "source": [
        "import tensorflow as tf\n",
        "tf.__version__"
      ],
      "execution_count": 1,
      "outputs": [
        {
          "output_type": "execute_result",
          "data": {
            "application/vnd.google.colaboratory.intrinsic": {
              "type": "string"
            },
            "text/plain": [
              "'2.2.0'"
            ]
          },
          "metadata": {
            "tags": []
          },
          "execution_count": 1
        }
      ]
    },
    {
      "cell_type": "markdown",
      "metadata": {
        "id": "-XelLVmXUDq6",
        "colab_type": "text"
      },
      "source": [
        "**Boston Housing** It has relatively few data points: only 506, split\n",
        "between 404 training samples and 102 test samples. And each feature in the input data\n",
        "(for example, the crime rate) has a different scale. For instance, some values are pro-\n",
        "portions, which take values between 0 and 1; others take values between 1 and 12, oth-\n",
        "ers between 0 and 100, and so on."
      ]
    },
    {
      "cell_type": "code",
      "metadata": {
        "id": "1xZFdKbgObFW",
        "colab_type": "code",
        "colab": {}
      },
      "source": [
        "import tensorflow as tf\n",
        "from tensorflow.keras.datasets import boston_housing\n",
        "from tensorflow.keras import models,layers,utils\n",
        "import matplotlib.pyplot as plt\n",
        "import numpy as np\n",
        "import pandas as pd\n"
      ],
      "execution_count": 2,
      "outputs": []
    },
    {
      "cell_type": "code",
      "metadata": {
        "id": "hSRKRfHIS9g5",
        "colab_type": "code",
        "colab": {
          "base_uri": "https://localhost:8080/",
          "height": 51
        },
        "outputId": "cedc0346-976c-4206-86db-ee715c03817e"
      },
      "source": [
        "(train_data,train_targets),(test_data,test_targets)=boston_housing.load_data()"
      ],
      "execution_count": 3,
      "outputs": [
        {
          "output_type": "stream",
          "text": [
            "Downloading data from https://storage.googleapis.com/tensorflow/tf-keras-datasets/boston_housing.npz\n",
            "57344/57026 [==============================] - 0s 0us/step\n"
          ],
          "name": "stdout"
        }
      ]
    },
    {
      "cell_type": "code",
      "metadata": {
        "id": "l0H2ncafTQMt",
        "colab_type": "code",
        "colab": {
          "base_uri": "https://localhost:8080/",
          "height": 51
        },
        "outputId": "2ceb1b24-e5d3-4874-d151-5ffceb2d3b5f"
      },
      "source": [
        "print(train_data.shape)\n",
        "print(test_data.shape)"
      ],
      "execution_count": 4,
      "outputs": [
        {
          "output_type": "stream",
          "text": [
            "(404, 13)\n",
            "(102, 13)\n"
          ],
          "name": "stdout"
        }
      ]
    },
    {
      "cell_type": "code",
      "metadata": {
        "id": "GiJk0387Teqo",
        "colab_type": "code",
        "colab": {
          "base_uri": "https://localhost:8080/",
          "height": 646
        },
        "outputId": "cde31079-6f9c-488f-b30a-af40ba24fdb1"
      },
      "source": [
        "train_targets#The targets are the median values of owner-occupied homes, in thousands of dollars:"
      ],
      "execution_count": 5,
      "outputs": [
        {
          "output_type": "execute_result",
          "data": {
            "text/plain": [
              "array([15.2, 42.3, 50. , 21.1, 17.7, 18.5, 11.3, 15.6, 15.6, 14.4, 12.1,\n",
              "       17.9, 23.1, 19.9, 15.7,  8.8, 50. , 22.5, 24.1, 27.5, 10.9, 30.8,\n",
              "       32.9, 24. , 18.5, 13.3, 22.9, 34.7, 16.6, 17.5, 22.3, 16.1, 14.9,\n",
              "       23.1, 34.9, 25. , 13.9, 13.1, 20.4, 20. , 15.2, 24.7, 22.2, 16.7,\n",
              "       12.7, 15.6, 18.4, 21. , 30.1, 15.1, 18.7,  9.6, 31.5, 24.8, 19.1,\n",
              "       22. , 14.5, 11. , 32. , 29.4, 20.3, 24.4, 14.6, 19.5, 14.1, 14.3,\n",
              "       15.6, 10.5,  6.3, 19.3, 19.3, 13.4, 36.4, 17.8, 13.5, 16.5,  8.3,\n",
              "       14.3, 16. , 13.4, 28.6, 43.5, 20.2, 22. , 23. , 20.7, 12.5, 48.5,\n",
              "       14.6, 13.4, 23.7, 50. , 21.7, 39.8, 38.7, 22.2, 34.9, 22.5, 31.1,\n",
              "       28.7, 46. , 41.7, 21. , 26.6, 15. , 24.4, 13.3, 21.2, 11.7, 21.7,\n",
              "       19.4, 50. , 22.8, 19.7, 24.7, 36.2, 14.2, 18.9, 18.3, 20.6, 24.6,\n",
              "       18.2,  8.7, 44. , 10.4, 13.2, 21.2, 37. , 30.7, 22.9, 20. , 19.3,\n",
              "       31.7, 32. , 23.1, 18.8, 10.9, 50. , 19.6,  5. , 14.4, 19.8, 13.8,\n",
              "       19.6, 23.9, 24.5, 25. , 19.9, 17.2, 24.6, 13.5, 26.6, 21.4, 11.9,\n",
              "       22.6, 19.6,  8.5, 23.7, 23.1, 22.4, 20.5, 23.6, 18.4, 35.2, 23.1,\n",
              "       27.9, 20.6, 23.7, 28. , 13.6, 27.1, 23.6, 20.6, 18.2, 21.7, 17.1,\n",
              "        8.4, 25.3, 13.8, 22.2, 18.4, 20.7, 31.6, 30.5, 20.3,  8.8, 19.2,\n",
              "       19.4, 23.1, 23. , 14.8, 48.8, 22.6, 33.4, 21.1, 13.6, 32.2, 13.1,\n",
              "       23.4, 18.9, 23.9, 11.8, 23.3, 22.8, 19.6, 16.7, 13.4, 22.2, 20.4,\n",
              "       21.8, 26.4, 14.9, 24.1, 23.8, 12.3, 29.1, 21. , 19.5, 23.3, 23.8,\n",
              "       17.8, 11.5, 21.7, 19.9, 25. , 33.4, 28.5, 21.4, 24.3, 27.5, 33.1,\n",
              "       16.2, 23.3, 48.3, 22.9, 22.8, 13.1, 12.7, 22.6, 15. , 15.3, 10.5,\n",
              "       24. , 18.5, 21.7, 19.5, 33.2, 23.2,  5. , 19.1, 12.7, 22.3, 10.2,\n",
              "       13.9, 16.3, 17. , 20.1, 29.9, 17.2, 37.3, 45.4, 17.8, 23.2, 29. ,\n",
              "       22. , 18. , 17.4, 34.6, 20.1, 25. , 15.6, 24.8, 28.2, 21.2, 21.4,\n",
              "       23.8, 31. , 26.2, 17.4, 37.9, 17.5, 20. ,  8.3, 23.9,  8.4, 13.8,\n",
              "        7.2, 11.7, 17.1, 21.6, 50. , 16.1, 20.4, 20.6, 21.4, 20.6, 36.5,\n",
              "        8.5, 24.8, 10.8, 21.9, 17.3, 18.9, 36.2, 14.9, 18.2, 33.3, 21.8,\n",
              "       19.7, 31.6, 24.8, 19.4, 22.8,  7.5, 44.8, 16.8, 18.7, 50. , 50. ,\n",
              "       19.5, 20.1, 50. , 17.2, 20.8, 19.3, 41.3, 20.4, 20.5, 13.8, 16.5,\n",
              "       23.9, 20.6, 31.5, 23.3, 16.8, 14. , 33.8, 36.1, 12.8, 18.3, 18.7,\n",
              "       19.1, 29. , 30.1, 50. , 50. , 22. , 11.9, 37.6, 50. , 22.7, 20.8,\n",
              "       23.5, 27.9, 50. , 19.3, 23.9, 22.6, 15.2, 21.7, 19.2, 43.8, 20.3,\n",
              "       33.2, 19.9, 22.5, 32.7, 22. , 17.1, 19. , 15. , 16.1, 25.1, 23.7,\n",
              "       28.7, 37.2, 22.6, 16.4, 25. , 29.8, 22.1, 17.4, 18.1, 30.3, 17.5,\n",
              "       24.7, 12.6, 26.5, 28.7, 13.3, 10.4, 24.4, 23. , 20. , 17.8,  7. ,\n",
              "       11.8, 24.4, 13.8, 19.4, 25.2, 19.4, 19.4, 29.1])"
            ]
          },
          "metadata": {
            "tags": []
          },
          "execution_count": 5
        }
      ]
    },
    {
      "cell_type": "markdown",
      "metadata": {
        "id": "cxAXy3bvWv1t",
        "colab_type": "text"
      },
      "source": [
        "**Normalizing Data** Note that the quantities used for normalizing the test data are computed using the\n",
        "training data. You should never use in your workflow any quantity computed on the\n",
        "test data, even for something as simple as data normalization."
      ]
    },
    {
      "cell_type": "code",
      "metadata": {
        "id": "ZSnuboG7UQiO",
        "colab_type": "code",
        "colab": {}
      },
      "source": [
        "mean=train_data.mean(axis=0)\n",
        "train_data-=mean\n",
        "std = train_data.std(axis=0)\n",
        "train_data/=std\n",
        "test_data-=mean\n",
        "test_data/=std"
      ],
      "execution_count": 6,
      "outputs": []
    },
    {
      "cell_type": "markdown",
      "metadata": {
        "id": "lUzbVa7AYj4y",
        "colab_type": "text"
      },
      "source": [
        "**K-fold Crosss validation** is used when you have small anout of data for training a model. it divides the data into two patches (train_data, and test data)"
      ]
    },
    {
      "cell_type": "markdown",
      "metadata": {
        "id": "1L9U-CZca8NZ",
        "colab_type": "text"
      },
      "source": [
        "**Building Model**"
      ]
    },
    {
      "cell_type": "code",
      "metadata": {
        "id": "H2DGaycPXNav",
        "colab_type": "code",
        "colab": {}
      },
      "source": [
        "def build_model():\n",
        "  model=models.Sequential()\n",
        "  model.add(layers.Dense(64,activation='relu',input_shape=(train_data.shape[1],)))\n",
        "  model.add(layers.Dense(64,activation='relu'))\n",
        "  model.add(layers.Dense(1))\n",
        "  model.compile(optimizer='rmsprop',loss='mse',metrics=['mae'])\n",
        "  return model"
      ],
      "execution_count": 7,
      "outputs": []
    },
    {
      "cell_type": "code",
      "metadata": {
        "id": "888NNq64HwiI",
        "colab_type": "code",
        "colab": {
          "base_uri": "https://localhost:8080/",
          "height": 85
        },
        "outputId": "1252d612-8436-4ccc-83b7-b392531cd5b7"
      },
      "source": [
        "k=4\n",
        "num_all_sample=len(train_data)//4\n",
        "num_epochs=500\n",
        "all_score=[]\n",
        "all_mae_histories=[]\n",
        "for i in range (k):\n",
        "  print('processing fold#',i)\n",
        "  val_data=train_data[i*num_all_sample:(i+1)*num_all_sample]\n",
        "  val_target=train_targets[i*num_all_sample:(i+1)*num_all_sample]\n",
        "  partial_train_data=np.concatenate([train_data[:i * num_all_sample], train_data[(i + 1) * num_all_sample:]],axis=0)\n",
        "  partial_train_target=np.concatenate([train_targets[:i*num_all_sample],train_targets[(i+1)*num_all_sample:]],axis=0)\n",
        "  model=build_model()\n",
        "  history=model.fit(partial_train_data,partial_train_target,epochs=num_epochs,batch_size=1,verbose=0)\n",
        "  val_mse,val_mae=model.evaluate(val_data,val_target,verbose=0)\n",
        "  all_score.append(val_mae)\n",
        "  mae_history= history.history['mae']\n",
        "  all_mae_histories.append(mae_history)\n",
        "\n"
      ],
      "execution_count": 19,
      "outputs": [
        {
          "output_type": "stream",
          "text": [
            "processing fold# 0\n",
            "processing fold# 1\n",
            "processing fold# 2\n",
            "processing fold# 3\n"
          ],
          "name": "stdout"
        }
      ]
    },
    {
      "cell_type": "code",
      "metadata": {
        "id": "sb00ZKzoICii",
        "colab_type": "code",
        "colab": {
          "base_uri": "https://localhost:8080/",
          "height": 88
        },
        "outputId": "cfa00635-e99c-4283-885c-a9dbaf1fef60"
      },
      "source": [
        "average_mae_history=[np.mean([x[i] for x in all_mae_histories]) for i in range(num_epochs)]\n",
        "print('all fold validation error',all_score)\n",
        "print('mean for all fold validation error',np.mean(all_score))\n",
        "print('average mae history',average_mae_history)\n"
      ],
      "execution_count": 20,
      "outputs": [
        {
          "output_type": "stream",
          "text": [
            "all fold validation error [2.229228973388672, 3.0164668560028076, 2.6847546100616455, 2.8366944789886475]\n",
            "mean for all fold validation error 2.691786229610443\n",
            "average mae history [10.679481506347656, 3.739004969596863, 3.0541818141937256, 2.750121295452118, 2.591971278190613, 2.4795608520507812, 2.4076035022735596, 2.3518697023391724, 2.3212562799453735, 2.246147334575653, 2.228050410747528, 2.175846040248871, 2.170683741569519, 2.1298664808273315, 2.117597818374634, 2.0909881591796875, 2.0559841692447662, 2.047109842300415, 2.0170585215091705, 1.9815260767936707, 1.9648802280426025, 1.9407477676868439, 1.960963398218155, 1.9018489718437195, 1.9162464141845703, 1.9006427526474, 1.8693756759166718, 1.8464920818805695, 1.8358204662799835, 1.8164829909801483, 1.822375327348709, 1.818822979927063, 1.7806197702884674, 1.7415566146373749, 1.7556685507297516, 1.7705610394477844, 1.702731966972351, 1.6925338804721832, 1.706660807132721, 1.7187865376472473, 1.674377828836441, 1.6746754348278046, 1.6310965418815613, 1.6672772467136383, 1.651088297367096, 1.6459717750549316, 1.596975326538086, 1.589813083410263, 1.609641671180725, 1.5853756666183472, 1.5692995488643646, 1.5750112235546112, 1.562800109386444, 1.5592158138751984, 1.560371994972229, 1.547880232334137, 1.5281569063663483, 1.5471278131008148, 1.5082434117794037, 1.4967907667160034, 1.477361410856247, 1.4889105260372162, 1.4779792129993439, 1.4953495860099792, 1.4686564803123474, 1.4652023315429688, 1.472984790802002, 1.4415264427661896, 1.44511079788208, 1.4360849857330322, 1.4338489472866058, 1.4418043196201324, 1.4010798931121826, 1.4174963533878326, 1.4099176526069641, 1.397896558046341, 1.3903409540653229, 1.4017706513404846, 1.4006550014019012, 1.3751449286937714, 1.3692420721054077, 1.3744919300079346, 1.3758092522621155, 1.3368738293647766, 1.346510648727417, 1.330668419599533, 1.3371903896331787, 1.326175481081009, 1.3252890706062317, 1.3025840818881989, 1.333147644996643, 1.320055514574051, 1.29747474193573, 1.328885406255722, 1.3099570572376251, 1.3253258168697357, 1.2959423661231995, 1.2642672061920166, 1.2828540205955505, 1.2795021831989288, 1.2723166048526764, 1.276629239320755, 1.248314529657364, 1.2591193914413452, 1.2718552350997925, 1.225818395614624, 1.258806049823761, 1.2533564567565918, 1.22727832198143, 1.2109579145908356, 1.2297119200229645, 1.2082882225513458, 1.198910117149353, 1.2515534460544586, 1.1935687363147736, 1.207370787858963, 1.204338163137436, 1.1678768396377563, 1.2227230072021484, 1.1914696991443634, 1.1930804550647736, 1.2091738283634186, 1.1658214032649994, 1.1949720978736877, 1.1480648517608643, 1.1724196076393127, 1.1730615496635437, 1.1765899062156677, 1.120893955230713, 1.1481267213821411, 1.1553937196731567, 1.170379400253296, 1.1249155104160309, 1.1235284805297852, 1.1379534602165222, 1.1421743631362915, 1.1378487050533295, 1.116934448480606, 1.130921334028244, 1.1270507872104645, 1.149158090353012, 1.1074190735816956, 1.090902864933014, 1.1178063452243805, 1.117160826921463, 1.0960546135902405, 1.1193749606609344, 1.07496976852417, 1.0737404823303223, 1.0913064181804657, 1.1160273849964142, 1.099402278661728, 1.087810456752777, 1.0908689200878143, 1.0783337950706482, 1.0513079464435577, 1.0987366735935211, 1.0748582780361176, 1.0700479596853256, 1.0685586631298065, 1.0790509730577469, 1.0515449047088623, 1.0710313767194748, 1.058251440525055, 1.0577505826950073, 1.0178161561489105, 1.0753843188285828, 1.0420796126127243, 1.0405008792877197, 1.052393987774849, 1.0524848103523254, 1.027894139289856, 1.032325729727745, 1.0283195227384567, 1.0185158103704453, 1.0423649549484253, 1.024419754743576, 1.0196990072727203, 1.008622258901596, 1.031755343079567, 1.0124842375516891, 1.0091379284858704, 1.0119477957487106, 1.008447751402855, 1.0046213865280151, 0.9780927449464798, 1.028224691748619, 0.991949662566185, 0.9929255843162537, 1.005587860941887, 0.996842235326767, 0.9654389917850494, 0.9908422231674194, 0.9902218282222748, 0.9841523617506027, 0.9987021684646606, 1.001146137714386, 0.968663826584816, 0.9640290141105652, 0.980658546090126, 0.9943346977233887, 0.9737185537815094, 0.9626458287239075, 0.9688417166471481, 0.9750840961933136, 0.9756467193365097, 0.9211176782846451, 0.96425461769104, 0.9388678520917892, 0.9602794945240021, 0.9453574270009995, 0.9445802271366119, 0.92071433365345, 0.9316269606351852, 0.9360837787389755, 0.9439762085676193, 0.9328176826238632, 0.911685436964035, 0.9283040314912796, 0.9171426743268967, 0.9250856637954712, 0.9559280127286911, 0.9327715784311295, 0.9270531535148621, 0.9244507700204849, 0.9241234213113785, 0.921386331319809, 0.913796678185463, 0.9238398522138596, 0.9140125215053558, 0.9212264269590378, 0.9260967820882797, 0.9122845679521561, 0.8890511989593506, 0.9161123484373093, 0.9223401695489883, 0.9210114926099777, 0.903080090880394, 0.9129865020513535, 0.9089003354310989, 0.907017171382904, 0.8890144675970078, 0.9054369330406189, 0.8957903385162354, 0.9003740549087524, 0.8759110867977142, 0.8952337801456451, 0.8653630465269089, 0.9219373762607574, 0.8680174052715302, 0.8585810214281082, 0.8659107387065887, 0.8806465417146683, 0.8921340107917786, 0.8790916502475739, 0.8658277243375778, 0.8835800290107727, 0.8725676983594894, 0.8589460253715515, 0.8644186556339264, 0.8861325085163116, 0.8518998324871063, 0.8666300177574158, 0.8789872229099274, 0.864822268486023, 0.87017922103405, 0.8521045595407486, 0.8723439574241638, 0.8620029836893082, 0.8516858816146851, 0.8453909307718277, 0.8374727070331573, 0.8651468753814697, 0.8682156354188919, 0.8344543278217316, 0.8601325005292892, 0.8479582518339157, 0.833494707942009, 0.8421865403652191, 0.8314346522092819, 0.8452523499727249, 0.8555075079202652, 0.8370759785175323, 0.8187241405248642, 0.8287280648946762, 0.828894630074501, 0.8398657441139221, 0.7948270738124847, 0.823967844247818, 0.8448367863893509, 0.813359871506691, 0.8423114567995071, 0.8168179243803024, 0.8245946317911148, 0.8095089197158813, 0.8164646029472351, 0.8197138458490372, 0.8191631436347961, 0.8277095854282379, 0.8113015443086624, 0.8231521844863892, 0.8027935028076172, 0.8032597154378891, 0.8029817044734955, 0.8148912340402603, 0.8314259499311447, 0.7902320176362991, 0.8222488462924957, 0.8029613792896271, 0.8115958720445633, 0.7904977351427078, 0.8034191578626633, 0.8073340654373169, 0.7914018929004669, 0.7824622541666031, 0.8019900470972061, 0.7914018481969833, 0.7829589247703552, 0.7826827466487885, 0.7810538411140442, 0.7986557334661484, 0.800159677863121, 0.7872596830129623, 0.7954783290624619, 0.7947451323270798, 0.7798000425100327, 0.7814912348985672, 0.7932737618684769, 0.7697478234767914, 0.7860997468233109, 0.7864324450492859, 0.7636712342500687, 0.792032778263092, 0.7885737866163254, 0.7564633339643478, 0.7701152563095093, 0.7649499177932739, 0.777011439204216, 0.7873407900333405, 0.7667899876832962, 0.7497115731239319, 0.7887402921915054, 0.7531668841838837, 0.7477500885725021, 0.7569901198148727, 0.78091761469841, 0.7710417807102203, 0.7579319030046463, 0.7758664488792419, 0.7603640556335449, 0.7772904336452484, 0.7423305660486221, 0.7618842422962189, 0.7325723618268967, 0.7745755016803741, 0.7561445385217667, 0.7608192563056946, 0.7371922880411148, 0.7497931867837906, 0.7727018445730209, 0.7471948564052582, 0.7469593584537506, 0.7501302510499954, 0.7505788207054138, 0.7549465596675873, 0.7431580722332001, 0.727778747677803, 0.7449394166469574, 0.7509763985872269, 0.7540943324565887, 0.738415390253067, 0.7268857359886169, 0.7358199059963226, 0.7455838024616241, 0.7343271374702454, 0.7241561561822891, 0.7295422106981277, 0.7575100362300873, 0.7563742697238922, 0.7339859306812286, 0.7532254159450531, 0.7068727910518646, 0.7232646048069, 0.721724659204483, 0.7173750549554825, 0.7073027342557907, 0.7385890483856201, 0.707447275519371, 0.7365780472755432, 0.7333385050296783, 0.7340332865715027, 0.7220734357833862, 0.721850112080574, 0.7153634577989578, 0.7223418951034546, 0.7218968421220779, 0.713011309504509, 0.7142087370157242, 0.7097549438476562, 0.7259313315153122, 0.694976270198822, 0.7104450613260269, 0.7156293541193008, 0.712671771645546, 0.7090016454458237, 0.7018992751836777, 0.7026285231113434, 0.7179712951183319, 0.7010479420423508, 0.7155459523200989, 0.6887797266244888, 0.6936109513044357, 0.708159327507019, 0.7051311731338501, 0.685361847281456, 0.6873596012592316, 0.7283744215965271, 0.6962452381849289, 0.7066551148891449, 0.697669118642807, 0.69497150182724, 0.7119408547878265, 0.6861480623483658, 0.7083567678928375, 0.6880391836166382, 0.6925851255655289, 0.6927536427974701, 0.7025480270385742, 0.6804830580949783, 0.6785108000040054, 0.6977361887693405, 0.6953449100255966, 0.6882848590612411, 0.6843039840459824, 0.6861846894025803, 0.6820815205574036, 0.6773385554552078, 0.6901800781488419, 0.694409504532814, 0.6741583943367004, 0.6744360625743866, 0.6912630647420883, 0.6807494312524796, 0.6776058971881866, 0.6882394403219223, 0.6832907348871231, 0.6620560735464096, 0.6858480423688889, 0.6862193197011948, 0.6745337098836899, 0.6588701456785202, 0.6842183917760849, 0.6781236380338669, 0.6647934317588806, 0.6671951562166214, 0.6731201261281967, 0.6691365540027618, 0.6774349361658096, 0.6627047210931778, 0.6863722056150436, 0.6778263002634048, 0.6670031696557999, 0.6689718663692474, 0.6737705320119858, 0.6897057294845581, 0.6772685050964355, 0.6638333797454834, 0.6565746963024139, 0.6631830781698227, 0.6732172966003418, 0.6768749803304672, 0.6332999914884567, 0.6742857545614243, 0.6544518619775772, 0.649611309170723, 0.6495321393013, 0.6555645167827606, 0.6706474423408508, 0.6642184108495712, 0.6547838598489761, 0.6765377372503281, 0.6621886342763901, 0.6649587750434875, 0.6426882594823837, 0.6525672078132629, 0.6800707876682281, 0.6659693419933319, 0.6676588952541351, 0.6675428450107574, 0.644112840294838, 0.662861093878746, 0.6491013765335083, 0.6108122617006302, 0.6460499167442322, 0.6508712768554688, 0.6416548937559128, 0.6616953611373901, 0.6623290926218033, 0.6566285789012909, 0.6466702222824097]\n"
          ],
          "name": "stdout"
        }
      ]
    },
    {
      "cell_type": "code",
      "metadata": {
        "id": "YLfTzDMXIQU9",
        "colab_type": "code",
        "colab": {
          "base_uri": "https://localhost:8080/",
          "height": 279
        },
        "outputId": "3e5357a7-2feb-4d65-ab74-ef30a0276787"
      },
      "source": [
        "import matplotlib.pyplot as plt\n",
        "plt.plot(range(1,len(average_mae_history)+1),average_mae_history)\n",
        "plt.xlabel('Epochs')\n",
        "plt.ylabel('Validation MAE')\n",
        "plt.show()"
      ],
      "execution_count": 21,
      "outputs": [
        {
          "output_type": "display_data",
          "data": {
            "image/png": "[encoded data removed]",
            "text/plain": [
              "<Figure size 432x288 with 1 Axes>"
            ]
          },
          "metadata": {
            "tags": [],
            "needs_background": "light"
          }
        }
      ]
    },
    {
      "cell_type": "code",
      "metadata": {
        "id": "EPNII8OfLLo7",
        "colab_type": "code",
        "colab": {
          "base_uri": "https://localhost:8080/",
          "height": 279
        },
        "outputId": "f5a5bed9-7b8b-4205-bdc6-17cc3f9a1174"
      },
      "source": [
        "def smooth_curve(points, factor=0.9):\n",
        "  smoothed_points = []\n",
        "  for point in points:\n",
        "    if smoothed_points:\n",
        "      previous = smoothed_points[-1]\n",
        "      smoothed_points.append(previous * factor + point * (1 - factor))\n",
        "    else:\n",
        "        smoothed_points.append(point)\n",
        "  return smoothed_points\n",
        "smooth_mae_history = smooth_curve(average_mae_history[10:])\n",
        "plt.plot(range(1, len(smooth_mae_history) + 1), smooth_mae_history)\n",
        "plt.xlabel('Epochs')\n",
        "plt.ylabel('Validation MAE')\n",
        "plt.show()"
      ],
      "execution_count": 22,
      "outputs": [
        {
          "output_type": "display_data",
          "data": {
            "image/png": "[encoded data removed]",
            "text/plain": [
              "<Figure size 432x288 with 1 Axes>"
            ]
          },
          "metadata": {
            "tags": [],
            "needs_background": "light"
          }
        }
      ]
    },
    {
      "cell_type": "code",
      "metadata": {
        "id": "CCsrYKs9t6BS",
        "colab_type": "code",
        "colab": {}
      },
      "source": [
        ""
      ],
      "execution_count": null,
      "outputs": []
    }
  ]
}